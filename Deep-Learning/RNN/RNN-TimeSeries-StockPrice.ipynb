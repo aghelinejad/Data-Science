{
 "cells": [
  {
   "cell_type": "code",
   "execution_count": 1,
   "metadata": {},
   "outputs": [],
   "source": [
    "import pandas as pd\n",
    "import numpy as np\n",
    "import matplotlib.pyplot as plt\n",
    "import seaborn as sns\n",
    "\n",
    "%matplotlib inline"
   ]
  },
  {
   "cell_type": "code",
   "execution_count": 18,
   "metadata": {},
   "outputs": [],
   "source": [
    "train_data = pd.read_csv('Google_Stock_Price_Train.csv')"
   ]
  },
  {
   "cell_type": "code",
   "execution_count": 19,
   "metadata": {},
   "outputs": [
    {
     "data": {
      "text/html": [
       "<div>\n",
       "<style scoped>\n",
       "    .dataframe tbody tr th:only-of-type {\n",
       "        vertical-align: middle;\n",
       "    }\n",
       "\n",
       "    .dataframe tbody tr th {\n",
       "        vertical-align: top;\n",
       "    }\n",
       "\n",
       "    .dataframe thead th {\n",
       "        text-align: right;\n",
       "    }\n",
       "</style>\n",
       "<table border=\"1\" class=\"dataframe\">\n",
       "  <thead>\n",
       "    <tr style=\"text-align: right;\">\n",
       "      <th></th>\n",
       "      <th>Date</th>\n",
       "      <th>Open</th>\n",
       "      <th>High</th>\n",
       "      <th>Low</th>\n",
       "      <th>Close</th>\n",
       "      <th>Volume</th>\n",
       "    </tr>\n",
       "  </thead>\n",
       "  <tbody>\n",
       "    <tr>\n",
       "      <th>0</th>\n",
       "      <td>1/3/2012</td>\n",
       "      <td>325.25</td>\n",
       "      <td>332.83</td>\n",
       "      <td>324.97</td>\n",
       "      <td>663.59</td>\n",
       "      <td>7,380,500</td>\n",
       "    </tr>\n",
       "    <tr>\n",
       "      <th>1</th>\n",
       "      <td>1/4/2012</td>\n",
       "      <td>331.27</td>\n",
       "      <td>333.87</td>\n",
       "      <td>329.08</td>\n",
       "      <td>666.45</td>\n",
       "      <td>5,749,400</td>\n",
       "    </tr>\n",
       "    <tr>\n",
       "      <th>2</th>\n",
       "      <td>1/5/2012</td>\n",
       "      <td>329.83</td>\n",
       "      <td>330.75</td>\n",
       "      <td>326.89</td>\n",
       "      <td>657.21</td>\n",
       "      <td>6,590,300</td>\n",
       "    </tr>\n",
       "    <tr>\n",
       "      <th>3</th>\n",
       "      <td>1/6/2012</td>\n",
       "      <td>328.34</td>\n",
       "      <td>328.77</td>\n",
       "      <td>323.68</td>\n",
       "      <td>648.24</td>\n",
       "      <td>5,405,900</td>\n",
       "    </tr>\n",
       "    <tr>\n",
       "      <th>4</th>\n",
       "      <td>1/9/2012</td>\n",
       "      <td>322.04</td>\n",
       "      <td>322.29</td>\n",
       "      <td>309.46</td>\n",
       "      <td>620.76</td>\n",
       "      <td>11,688,800</td>\n",
       "    </tr>\n",
       "  </tbody>\n",
       "</table>\n",
       "</div>"
      ],
      "text/plain": [
       "       Date    Open    High     Low   Close      Volume\n",
       "0  1/3/2012  325.25  332.83  324.97  663.59   7,380,500\n",
       "1  1/4/2012  331.27  333.87  329.08  666.45   5,749,400\n",
       "2  1/5/2012  329.83  330.75  326.89  657.21   6,590,300\n",
       "3  1/6/2012  328.34  328.77  323.68  648.24   5,405,900\n",
       "4  1/9/2012  322.04  322.29  309.46  620.76  11,688,800"
      ]
     },
     "execution_count": 19,
     "metadata": {},
     "output_type": "execute_result"
    }
   ],
   "source": [
    "train_data.head()"
   ]
  },
  {
   "cell_type": "code",
   "execution_count": 20,
   "metadata": {},
   "outputs": [
    {
     "name": "stdout",
     "output_type": "stream",
     "text": [
      "<class 'pandas.core.frame.DataFrame'>\n",
      "RangeIndex: 1258 entries, 0 to 1257\n",
      "Data columns (total 6 columns):\n",
      " #   Column  Non-Null Count  Dtype  \n",
      "---  ------  --------------  -----  \n",
      " 0   Date    1258 non-null   object \n",
      " 1   Open    1258 non-null   float64\n",
      " 2   High    1258 non-null   float64\n",
      " 3   Low     1258 non-null   float64\n",
      " 4   Close   1258 non-null   object \n",
      " 5   Volume  1258 non-null   object \n",
      "dtypes: float64(3), object(3)\n",
      "memory usage: 59.1+ KB\n"
     ]
    }
   ],
   "source": [
    "train_data.info()"
   ]
  },
  {
   "cell_type": "code",
   "execution_count": 21,
   "metadata": {},
   "outputs": [
    {
     "data": {
      "text/plain": [
       "(1258, 6)"
      ]
     },
     "execution_count": 21,
     "metadata": {},
     "output_type": "execute_result"
    }
   ],
   "source": [
    "train_data.shape"
   ]
  },
  {
   "cell_type": "code",
   "execution_count": 23,
   "metadata": {},
   "outputs": [],
   "source": [
    "train_data['Date'] = pd.to_datetime(train_data['Date'])"
   ]
  },
  {
   "cell_type": "code",
   "execution_count": 41,
   "metadata": {},
   "outputs": [
    {
     "data": {
      "text/plain": [
       "[<matplotlib.lines.Line2D at 0x1a4ed7f5048>]"
      ]
     },
     "execution_count": 41,
     "metadata": {},
     "output_type": "execute_result"
    },
    {
     "data": {
      "image/png": "[encoded data removed]",
      "text/plain": [
       "<Figure size 864x288 with 1 Axes>"
      ]
     },
     "metadata": {
      "needs_background": "light"
     },
     "output_type": "display_data"
    }
   ],
   "source": [
    "plt.figure(figsize=(12, 4))\n",
    "plt.plot(train_data['Date'], train_data['Open'])"
   ]
  },
  {
   "cell_type": "code",
   "execution_count": 25,
   "metadata": {},
   "outputs": [
    {
     "data": {
      "text/html": [
       "<div>\n",
       "<style scoped>\n",
       "    .dataframe tbody tr th:only-of-type {\n",
       "        vertical-align: middle;\n",
       "    }\n",
       "\n",
       "    .dataframe tbody tr th {\n",
       "        vertical-align: top;\n",
       "    }\n",
       "\n",
       "    .dataframe thead th {\n",
       "        text-align: right;\n",
       "    }\n",
       "</style>\n",
       "<table border=\"1\" class=\"dataframe\">\n",
       "  <thead>\n",
       "    <tr style=\"text-align: right;\">\n",
       "      <th></th>\n",
       "      <th>Open</th>\n",
       "      <th>High</th>\n",
       "      <th>Low</th>\n",
       "    </tr>\n",
       "  </thead>\n",
       "  <tbody>\n",
       "    <tr>\n",
       "      <th>Open</th>\n",
       "      <td>1.000000</td>\n",
       "      <td>0.999692</td>\n",
       "      <td>0.999498</td>\n",
       "    </tr>\n",
       "    <tr>\n",
       "      <th>High</th>\n",
       "      <td>0.999692</td>\n",
       "      <td>1.000000</td>\n",
       "      <td>0.999480</td>\n",
       "    </tr>\n",
       "    <tr>\n",
       "      <th>Low</th>\n",
       "      <td>0.999498</td>\n",
       "      <td>0.999480</td>\n",
       "      <td>1.000000</td>\n",
       "    </tr>\n",
       "  </tbody>\n",
       "</table>\n",
       "</div>"
      ],
      "text/plain": [
       "          Open      High       Low\n",
       "Open  1.000000  0.999692  0.999498\n",
       "High  0.999692  1.000000  0.999480\n",
       "Low   0.999498  0.999480  1.000000"
      ]
     },
     "execution_count": 25,
     "metadata": {},
     "output_type": "execute_result"
    }
   ],
   "source": [
    "train_data.corr()"
   ]
  },
  {
   "cell_type": "code",
   "execution_count": 75,
   "metadata": {},
   "outputs": [],
   "source": [
    "# data preprocessing\n",
    "train = train_data['Open'].values.reshape(-1, 1)\n",
    "\n",
    "from sklearn.preprocessing import MinMaxScaler\n",
    "scaler = MinMaxScaler()\n",
    "train = scaler.fit_transform(train)\n",
    "\n",
    "# prepare training dataset for 60 timesteps\n",
    "x_train = []\n",
    "y_train = []\n",
    "\n",
    "for i in range(train.shape[0]-60):\n",
    "    x_train.append(train[i:i+60, 0])\n",
    "    y_train.append(train[i+60, 0])\n",
    "    \n",
    "x_train = np.array(x_train)\n",
    "y_train = np.array(y_train)\n",
    "\n",
    "x_train = np.reshape(x_train, newshape=(x_train.shape[0], x_train.shape[1], 1))"
   ]
  },
  {
   "cell_type": "code",
   "execution_count": 76,
   "metadata": {},
   "outputs": [
    {
     "data": {
      "text/plain": [
       "(1198, 60, 1)"
      ]
     },
     "execution_count": 76,
     "metadata": {},
     "output_type": "execute_result"
    }
   ],
   "source": [
    "x_train.shape"
   ]
  },
  {
   "cell_type": "code",
   "execution_count": 77,
   "metadata": {},
   "outputs": [],
   "source": [
    "from tensorflow.keras.models import Sequential\n",
    "from tensorflow.keras.layers import LSTM, Dense, Dropout\n",
    "from tensorflow.keras import metrics"
   ]
  },
  {
   "cell_type": "code",
   "execution_count": 184,
   "metadata": {},
   "outputs": [],
   "source": [
    "model = Sequential()\n",
    "\n",
    "# model.add(LSTM(units=50, return_sequences=True, input_shape=(x_train.shape[1], 1)))\n",
    "model.add(LSTM(units=70, return_sequences=True))\n",
    "model.add(Dropout(rate=0.1))\n",
    "\n",
    "model.add(LSTM(units=70, return_sequences=True))\n",
    "model.add(Dropout(rate=0.1))\n",
    "\n",
    "model.add(LSTM(units=70, return_sequences=False))\n",
    "model.add(Dropout(rate=0.1))\n",
    "\n",
    "model.add(Dense(units=1))\n",
    "\n",
    "model.compile(optimizer='rmsprop', loss='mean_squared_error', metrics=[metrics.mae])"
   ]
  },
  {
   "cell_type": "code",
   "execution_count": 185,
   "metadata": {},
   "outputs": [
    {
     "name": "stdout",
     "output_type": "stream",
     "text": [
      "Train on 1198 samples\n",
      "Epoch 1/30\n",
      "1198/1198 [==============================] - 7s 6ms/sample - loss: 0.0340 - mean_absolute_error: 0.1175\n",
      "Epoch 2/30\n",
      "1198/1198 [==============================] - 4s 3ms/sample - loss: 0.0109 - mean_absolute_error: 0.0808\n",
      "Epoch 3/30\n",
      "1198/1198 [==============================] - 4s 3ms/sample - loss: 0.0100 - mean_absolute_error: 0.0752\n",
      "Epoch 4/30\n",
      "1198/1198 [==============================] - 4s 3ms/sample - loss: 0.0099 - mean_absolute_error: 0.0767\n",
      "Epoch 5/30\n",
      "1198/1198 [==============================] - 4s 3ms/sample - loss: 0.0091 - mean_absolute_error: 0.0740\n",
      "Epoch 6/30\n",
      "1198/1198 [==============================] - 4s 3ms/sample - loss: 0.0067 - mean_absolute_error: 0.0592\n",
      "Epoch 7/30\n",
      "1198/1198 [==============================] - 4s 3ms/sample - loss: 0.0067 - mean_absolute_error: 0.0611\n",
      "Epoch 8/30\n",
      "1198/1198 [==============================] - 4s 3ms/sample - loss: 0.0075 - mean_absolute_error: 0.0671\n",
      "Epoch 9/30\n",
      "1198/1198 [==============================] - 5s 4ms/sample - loss: 0.0071 - mean_absolute_error: 0.0622\n",
      "Epoch 10/30\n",
      "1198/1198 [==============================] - 5s 4ms/sample - loss: 0.0051 - mean_absolute_error: 0.0536\n",
      "Epoch 11/30\n",
      "1198/1198 [==============================] - 5s 4ms/sample - loss: 0.0056 - mean_absolute_error: 0.0561\n",
      "Epoch 12/30\n",
      "1198/1198 [==============================] - 5s 4ms/sample - loss: 0.0053 - mean_absolute_error: 0.0545\n",
      "Epoch 13/30\n",
      "1198/1198 [==============================] - 5s 4ms/sample - loss: 0.0056 - mean_absolute_error: 0.0556\n",
      "Epoch 14/30\n",
      "1198/1198 [==============================] - 6s 5ms/sample - loss: 0.0053 - mean_absolute_error: 0.0540\n",
      "Epoch 15/30\n",
      "1198/1198 [==============================] - 6s 5ms/sample - loss: 0.0047 - mean_absolute_error: 0.0483\n",
      "Epoch 16/30\n",
      "1198/1198 [==============================] - 6s 5ms/sample - loss: 0.0046 - mean_absolute_error: 0.0505\n",
      "Epoch 17/30\n",
      "1198/1198 [==============================] - 6s 5ms/sample - loss: 0.0047 - mean_absolute_error: 0.0513\n",
      "Epoch 18/30\n",
      "1198/1198 [==============================] - 6s 5ms/sample - loss: 0.0044 - mean_absolute_error: 0.0480\n",
      "Epoch 19/30\n",
      "1198/1198 [==============================] - 5s 4ms/sample - loss: 0.0038 - mean_absolute_error: 0.0456\n",
      "Epoch 20/30\n",
      "1198/1198 [==============================] - 5s 4ms/sample - loss: 0.0042 - mean_absolute_error: 0.0493\n",
      "Epoch 21/30\n",
      "1198/1198 [==============================] - 5s 4ms/sample - loss: 0.0034 - mean_absolute_error: 0.0443\n",
      "Epoch 22/30\n",
      "1198/1198 [==============================] - 5s 4ms/sample - loss: 0.0035 - mean_absolute_error: 0.0430\n",
      "Epoch 23/30\n",
      "1198/1198 [==============================] - 5s 4ms/sample - loss: 0.0039 - mean_absolute_error: 0.0464\n",
      "Epoch 24/30\n",
      "1198/1198 [==============================] - 5s 4ms/sample - loss: 0.0035 - mean_absolute_error: 0.0418\n",
      "Epoch 25/30\n",
      "1198/1198 [==============================] - 5s 4ms/sample - loss: 0.0044 - mean_absolute_error: 0.0493\n",
      "Epoch 26/30\n",
      "1198/1198 [==============================] - 5s 4ms/sample - loss: 0.0030 - mean_absolute_error: 0.0411\n",
      "Epoch 27/30\n",
      "1198/1198 [==============================] - 5s 4ms/sample - loss: 0.0038 - mean_absolute_error: 0.0459\n",
      "Epoch 28/30\n",
      "1198/1198 [==============================] - 5s 4ms/sample - loss: 0.0031 - mean_absolute_error: 0.0417\n",
      "Epoch 29/30\n",
      "1198/1198 [==============================] - 5s 4ms/sample - loss: 0.0033 - mean_absolute_error: 0.0424\n",
      "Epoch 30/30\n",
      "1198/1198 [==============================] - 5s 4ms/sample - loss: 0.0032 - mean_absolute_error: 0.0427\n"
     ]
    },
    {
     "data": {
      "text/plain": [
       "<tensorflow.python.keras.callbacks.History at 0x1a509e30f48>"
      ]
     },
     "execution_count": 185,
     "metadata": {},
     "output_type": "execute_result"
    }
   ],
   "source": [
    "model.fit(x_train, y_train, batch_size=64, epochs=30, verbose=1)"
   ]
  },
  {
   "cell_type": "code",
   "execution_count": 186,
   "metadata": {},
   "outputs": [
    {
     "data": {
      "text/plain": [
       "<matplotlib.axes._subplots.AxesSubplot at 0x1a50f90ff88>"
      ]
     },
     "execution_count": 186,
     "metadata": {},
     "output_type": "execute_result"
    },
    {
     "data": {
      "image/png": "[encoded data removed]",
      "text/plain": [
       "<Figure size 432x288 with 1 Axes>"
      ]
     },
     "metadata": {
      "needs_background": "light"
     },
     "output_type": "display_data"
    }
   ],
   "source": [
    "losses = pd.DataFrame(model.history.history)\n",
    "losses.plot()"
   ]
  },
  {
   "cell_type": "code",
   "execution_count": 183,
   "metadata": {},
   "outputs": [
    {
     "name": "stdout",
     "output_type": "stream",
     "text": [
      "Train on 1198 samples\n",
      "Epoch 1/4\n",
      "1198/1198 [==============================] - 8s 7ms/sample - loss: 0.0722 - mean_absolute_error: 0.1904\n",
      "Epoch 2/4\n",
      "1198/1198 [==============================] - 4s 3ms/sample - loss: 0.0353 - mean_absolute_error: 0.1316\n",
      "Epoch 3/4\n",
      "1198/1198 [==============================] - 4s 3ms/sample - loss: 0.0281 - mean_absolute_error: 0.1172\n",
      "Epoch 4/4\n",
      "1198/1198 [==============================] - 4s 3ms/sample - loss: 0.0220 - mean_absolute_error: 0.1014\n",
      "n=70, r=0.1, l=3, bs=64\n",
      "loss value at last epoc: 0.021970924543518455\n",
      "\n",
      "Train on 1198 samples\n",
      "Epoch 1/4\n",
      "1198/1198 [==============================] - 7s 6ms/sample - loss: 0.0800 - mean_absolute_error: 0.2027\n",
      "Epoch 2/4\n",
      "1198/1198 [==============================] - 5s 4ms/sample - loss: 0.0403 - mean_absolute_error: 0.1443\n",
      "Epoch 3/4\n",
      "1198/1198 [==============================] - 5s 4ms/sample - loss: 0.0340 - mean_absolute_error: 0.1304\n",
      "Epoch 4/4\n",
      "1198/1198 [==============================] - 5s 5ms/sample - loss: 0.0280 - mean_absolute_error: 0.1179\n",
      "n=70, r=0.5, l=3, bs=64\n",
      "loss value at last epoc: 0.02802227871906081\n",
      "\n",
      "Train on 1198 samples\n",
      "Epoch 1/4\n",
      "1198/1198 [==============================] - 18s 15ms/sample - loss: 0.1356 - mean_absolute_error: 0.2822\n",
      "Epoch 2/4\n",
      "1198/1198 [==============================] - 12s 10ms/sample - loss: 0.0622 - mean_absolute_error: 0.1909\n",
      "Epoch 3/4\n",
      "1198/1198 [==============================] - 12s 10ms/sample - loss: 0.0445 - mean_absolute_error: 0.1552\n",
      "Epoch 4/4\n",
      "1198/1198 [==============================] - 15s 12ms/sample - loss: 0.0384 - mean_absolute_error: 0.1443\n",
      "n=70, r=0.5, l=6, bs=64\n",
      "loss value at last epoc: 0.03843934452145645\n",
      "\n",
      "Train on 1198 samples\n",
      "Epoch 1/4\n",
      "1198/1198 [==============================] - 16s 14ms/sample - loss: 0.1014 - mean_absolute_error: 0.2221\n",
      "Epoch 2/4\n",
      "1198/1198 [==============================] - 7s 6ms/sample - loss: 0.0415 - mean_absolute_error: 0.1415\n",
      "Epoch 3/4\n",
      "1198/1198 [==============================] - 7s 6ms/sample - loss: 0.0361 - mean_absolute_error: 0.1319\n",
      "Epoch 4/4\n",
      "1198/1198 [==============================] - 7s 6ms/sample - loss: 0.0276 - mean_absolute_error: 0.1171\n",
      "n=70, r=0.1, l=4, bs=64\n",
      "loss value at last epoc: 0.02762545833678198\n",
      "\n",
      "Train on 1198 samples\n",
      "Epoch 1/4\n",
      "1198/1198 [==============================] - 13s 11ms/sample - loss: 0.1176 - mean_absolute_error: 0.2648\n",
      "Epoch 2/4\n",
      "1198/1198 [==============================] - 7s 6ms/sample - loss: 0.0654 - mean_absolute_error: 0.1936\n",
      "Epoch 3/4\n",
      "1198/1198 [==============================] - 7s 6ms/sample - loss: 0.0499 - mean_absolute_error: 0.1653\n",
      "Epoch 4/4\n",
      "1198/1198 [==============================] - 7s 6ms/sample - loss: 0.0444 - mean_absolute_error: 0.1567\n",
      "n=30, r=0.5, l=6, bs=64\n",
      "loss value at last epoc: 0.04441089627763664\n",
      "\n",
      "Train on 1198 samples\n",
      "Epoch 1/4\n",
      "1198/1198 [==============================] - 9s 7ms/sample - loss: 0.0697 - mean_absolute_error: 0.1872\n",
      "Epoch 2/4\n",
      "1198/1198 [==============================] - 5s 4ms/sample - loss: 0.0426 - mean_absolute_error: 0.1443\n",
      "Epoch 3/4\n",
      "1198/1198 [==============================] - 5s 4ms/sample - loss: 0.0319 - mean_absolute_error: 0.1224\n",
      "Epoch 4/4\n",
      "1198/1198 [==============================] - 5s 4ms/sample - loss: 0.0267 - mean_absolute_error: 0.1115\n",
      "n=30, r=0.1, l=4, bs=64\n",
      "loss value at last epoc: 0.026691671084606388\n",
      "\n",
      "Train on 1198 samples\n",
      "Epoch 1/4\n",
      "1198/1198 [==============================] - 8s 7ms/sample - loss: 0.0781 - mean_absolute_error: 0.1937\n",
      "Epoch 2/4\n",
      "1198/1198 [==============================] - 6s 5ms/sample - loss: 0.0365 - mean_absolute_error: 0.1337\n",
      "Epoch 3/4\n",
      "1198/1198 [==============================] - 6s 5ms/sample - loss: 0.0323 - mean_absolute_error: 0.1285\n",
      "Epoch 4/4\n",
      "1198/1198 [==============================] - 6s 5ms/sample - loss: 0.0250 - mean_absolute_error: 0.1105\n",
      "n=70, r=0.3, l=3, bs=64\n",
      "loss value at last epoc: 0.02496898767284937\n",
      "\n",
      "Train on 1198 samples\n",
      "Epoch 1/4\n",
      "1198/1198 [==============================] - 12s 10ms/sample - loss: 0.1049 - mean_absolute_error: 0.2407\n",
      "Epoch 2/4\n",
      "1198/1198 [==============================] - 5s 4ms/sample - loss: 0.0505 - mean_absolute_error: 0.1620\n",
      "Epoch 3/4\n",
      "1198/1198 [==============================] - 5s 4ms/sample - loss: 0.0410 - mean_absolute_error: 0.1440\n",
      "Epoch 4/4\n",
      "1198/1198 [==============================] - 5s 4ms/sample - loss: 0.0382 - mean_absolute_error: 0.1389\n",
      "n=50, r=0.5, l=3, bs=128\n",
      "loss value at last epoc: 0.038231487241332636\n",
      "\n"
     ]
    }
   ],
   "source": [
    "# hyperparameter tuning\n",
    "n_trials = 8\n",
    "epochs = 4\n",
    "\n",
    "losses = pd.DataFrame()\n",
    "\n",
    "for i in range(n_trials):\n",
    "    n = np.random.choice([30, 50, 70])\n",
    "    r = np.random.choice([0.1, 0.3, 0.5])\n",
    "    l = np.random.choice([3, 4, 6])\n",
    "    bs = np.random.choice([32, 64, 128])\n",
    "\n",
    "    model = Sequential()\n",
    "    for j in range(l):\n",
    "        model.add(LSTM(units=n, return_sequences=True))\n",
    "        model.add(Dropout(rate=r))\n",
    "\n",
    "    model.add(Dense(units=1))\n",
    "\n",
    "    model.compile(optimizer='rmsprop', loss='mean_squared_error', metrics=[metrics.mae])\n",
    "\n",
    "    model.fit(x_train, y_train, batch_size=bs, epochs=epochs, verbose=1)\n",
    "\n",
    "    loss = pd.DataFrame(model.history.history)\n",
    "    print('n={}, r={}, l={}, bs={}'.format(n, r, l, bs))   \n",
    "    print('loss value at last epoc: {}\\n'.format(loss.iloc[-1,0]))\n",
    "    losses = pd.concat([losses, loss.iloc[-1, :]], axis=1)\n",
    "    \n",
    "# losses.idxmin()\n",
    "# list(range(len()))"
   ]
  },
  {
   "cell_type": "code",
   "execution_count": 206,
   "metadata": {},
   "outputs": [],
   "source": [
    "from tensorflow.keras.wrappers.scikit_learn import KerasRegressor\n",
    "\n",
    "def create_model(l=4, n=50, r=0.1, opt='rmsprop'):\n",
    "    model = Sequential()\n",
    "    for j in range(l):\n",
    "        model.add(LSTM(units=n, return_sequences=True))\n",
    "        model.add(Dropout(rate=r))\n",
    "    model.add(Dense(units=1))\n",
    "    model.compile(optimizer=opt, loss='mean_squared_error', metrics=[metrics.mae])\n",
    "    return model\n",
    "    \n",
    "model = KerasRegressor(build_fn=create_model, epochs=6, batch_size=32)\n",
    "\n",
    "from sklearn.model_selection import RandomizedSearchCV\n",
    "\n",
    "parameters = dict(n=[40, 50, 60, 70, 80],\n",
    "                  r=[0.1, 0.3, 0.5],\n",
    "                  l=[3, 4, 5, 6],\n",
    "                  batch_size=[32, 64, 128],\n",
    "                  opt=['sgd', 'rmsprop', 'adam'])\n",
    "\n",
    "tuner = RandomizedSearchCV(model, param_distributions=parameters, cv=3, n_iter=10, n_jobs=-1, verbose=1)"
   ]
  },
  {
   "cell_type": "code",
   "execution_count": 207,
   "metadata": {},
   "outputs": [
    {
     "name": "stdout",
     "output_type": "stream",
     "text": [
      "Fitting 3 folds for each of 10 candidates, totalling 30 fits\n"
     ]
    },
    {
     "name": "stderr",
     "output_type": "stream",
     "text": [
      "[Parallel(n_jobs=-1)]: Using backend LokyBackend with 12 concurrent workers.\n",
      "[Parallel(n_jobs=-1)]: Done  30 out of  30 | elapsed: 16.0min finished\n"
     ]
    },
    {
     "name": "stdout",
     "output_type": "stream",
     "text": [
      "Train on 1198 samples\n",
      "Epoch 1/6\n",
      "1198/1198 [==============================] - 20s 17ms/sample - loss: 0.0530 - mean_absolute_error: 0.1561\n",
      "Epoch 2/6\n",
      "1198/1198 [==============================] - 16s 14ms/sample - loss: 0.0271 - mean_absolute_error: 0.1142\n",
      "Epoch 3/6\n",
      "1198/1198 [==============================] - 18s 15ms/sample - loss: 0.0185 - mean_absolute_error: 0.0943\n",
      "Epoch 4/6\n",
      "1198/1198 [==============================] - 13s 11ms/sample - loss: 0.0153 - mean_absolute_error: 0.0877\n",
      "Epoch 5/6\n",
      "1198/1198 [==============================] - 12s 10ms/sample - loss: 0.0134 - mean_absolute_error: 0.0841\n",
      "Epoch 6/6\n",
      "1198/1198 [==============================] - 12s 10ms/sample - loss: 0.0109 - mean_absolute_error: 0.0767\n"
     ]
    }
   ],
   "source": [
    "tuned_results = tuner.fit(x_train, y_train)"
   ]
  },
  {
   "cell_type": "code",
   "execution_count": 209,
   "metadata": {},
   "outputs": [
    {
     "name": "stdout",
     "output_type": "stream",
     "text": [
      "Best: -0.013921 using {'r': 0.1, 'opt': 'rmsprop', 'n': 70, 'l': 3, 'batch_size': 32}\n"
     ]
    }
   ],
   "source": [
    "# summarize results\n",
    "print(\"Best: %f using %s\" % (tuned_results.best_score_, tuned_results.best_params_))\n",
    "\n",
    "means = tuned_results.cv_results_['mean_test_score']\n",
    "stds = tuned_results.cv_results_['std_test_score']\n",
    "params = tuned_results.cv_results_['params']\n",
    "# for mean, stdev, param in zip(means, stds, params):\n",
    "#     print(\"%f (%f) with: %r\" % (mean, stdev, param))"
   ]
  },
  {
   "cell_type": "code",
   "execution_count": 187,
   "metadata": {},
   "outputs": [],
   "source": [
    "test_data = pd.read_csv('Google_Stock_Price_Test.csv')\n",
    "y_test = test_data['Open'].values.reshape(-1, 1)\n",
    "\n",
    "total_data = pd.concat([train_data, test_data], axis=0)\n",
    "total_data = total_data['Open'].values.reshape(-1, 1)\n",
    "\n",
    "total_data = scaler.transform(total_data)\n",
    "\n",
    "x_test = []\n",
    "for i in range(len(test_data)):\n",
    "    x_test.append(total_data[i-len(test_data)-60:i-len(test_data), 0])\n",
    "\n",
    "x_test = np.array(x_test)\n",
    "x_test = np.reshape(x_test, newshape=(x_test.shape[0], x_test.shape[1], 1))\n",
    "\n",
    "predictions = model.predict(x_test)\n",
    "predictions = scaler.inverse_transform(predictions)"
   ]
  },
  {
   "cell_type": "code",
   "execution_count": 188,
   "metadata": {},
   "outputs": [
    {
     "data": {
      "image/png": "[encoded data removed]",
      "text/plain": [
       "<Figure size 432x288 with 1 Axes>"
      ]
     },
     "metadata": {
      "needs_background": "light"
     },
     "output_type": "display_data"
    }
   ],
   "source": [
    "plt.plot(predictions, color='red')\n",
    "plt.plot(y_test, color='blue')\n",
    "plt.show()"
   ]
  },
  {
   "cell_type": "code",
   "execution_count": 189,
   "metadata": {},
   "outputs": [
    {
     "name": "stdout",
     "output_type": "stream",
     "text": [
      "\r",
      "20/20 [==============================] - 1s 40ms/sample - loss: 650819.8125 - mean_absolute_error: 806.5995\n"
     ]
    },
    {
     "data": {
      "text/plain": [
       "[650819.8125, 806.5995]"
      ]
     },
     "execution_count": 189,
     "metadata": {},
     "output_type": "execute_result"
    }
   ],
   "source": [
    "model.evaluate(x_test, y_test)"
   ]
  },
  {
   "cell_type": "code",
   "execution_count": 190,
   "metadata": {},
   "outputs": [
    {
     "name": "stdout",
     "output_type": "stream",
     "text": [
      "32.65\n"
     ]
    }
   ],
   "source": [
    "from sklearn.metrics import mean_squared_error\n",
    "RMSE = round(np.sqrt(mean_squared_error(y_test, predictions)), 2)\n",
    "print(RMSE)"
   ]
  },
  {
   "cell_type": "code",
   "execution_count": null,
   "metadata": {},
   "outputs": [],
   "source": []
  }
 ],
 "metadata": {
  "kernelspec": {
   "display_name": "tensorflow",
   "language": "python",
   "name": "tensorflow"
  },
  "language_info": {
   "codemirror_mode": {
    "name": "ipython",
    "version": 3
   },
   "file_extension": ".py",
   "mimetype": "text/x-python",
   "name": "python",
   "nbconvert_exporter": "python",
   "pygments_lexer": "ipython3",
   "version": "3.7.6"
  }
 },
 "nbformat": 4,
 "nbformat_minor": 4
}
